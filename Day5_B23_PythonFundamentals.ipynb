{
 "cells": [
  {
   "cell_type": "code",
   "execution_count": null,
   "metadata": {},
   "outputs": [],
   "source": [
    "#general for loop syntax\n",
    "\n",
    "for tempvar in mainvar:  #tempvar--declare a temperoray varaiable and print the same\n",
    "    print(tempvar)       #mainvar--main varaible which has values assigned\n",
    "                         #a tab space forprint keyword is mandatory in for loop---also called indentation"
   ]
  },
  {
   "cell_type": "code",
   "execution_count": 5,
   "metadata": {
    "scrolled": true
   },
   "outputs": [
    {
     "name": "stdout",
     "output_type": "stream",
     "text": [
      " The cast of FRIENDS series ross\n",
      " The cast of FRIENDS series rachel\n",
      " The cast of FRIENDS series joey\n",
      " The cast of FRIENDS series chandler\n"
     ]
    }
   ],
   "source": [
    "#example of for loop\n",
    "\n",
    "cast = ['ross' , 'rachel' , 'joey' , 'chandler'] #mainvar--cast\n",
    "\n",
    "for crew in cast:                                #tempvar--crew\n",
    "    print(f\" The cast of FRIENDS series\" , crew)"
   ]
  },
  {
   "cell_type": "code",
   "execution_count": 7,
   "metadata": {},
   "outputs": [
    {
     "name": "stdout",
     "output_type": "stream",
     "text": [
      " The cast of FRIENDS series - Ross\n",
      " The cast of FRIENDS series - Rachel\n",
      " The cast of FRIENDS series - Joey\n",
      " The cast of FRIENDS series - Chandler\n"
     ]
    }
   ],
   "source": [
    "#improvising the code\n",
    "\n",
    "cast = ['ross' , 'rachel' , 'joey' , 'chandler']\n",
    "\n",
    "for crew in cast:\n",
    "    print(f\" The cast of FRIENDS series -\" , crew.title())\n"
   ]
  },
  {
   "cell_type": "code",
   "execution_count": null,
   "metadata": {},
   "outputs": [],
   "source": [
    "#sorting of list\n",
    "\n",
    "#can be done in 2 ways\n",
    "#1.Temporary\n",
    "#2.Permanent"
   ]
  },
  {
   "cell_type": "code",
   "execution_count": 8,
   "metadata": {},
   "outputs": [
    {
     "name": "stdout",
     "output_type": "stream",
     "text": [
      "['chandler', 'joey', 'rachel', 'ross']\n"
     ]
    }
   ],
   "source": [
    "#temporary sorting of list\n",
    "\n",
    "print(sorted(cast)) #sorts the list for temporary.The original list is retained"
   ]
  },
  {
   "cell_type": "code",
   "execution_count": 9,
   "metadata": {},
   "outputs": [
    {
     "name": "stdout",
     "output_type": "stream",
     "text": [
      "['ross', 'rachel', 'joey', 'chandler']\n"
     ]
    }
   ],
   "source": [
    "print(cast)"
   ]
  },
  {
   "cell_type": "code",
   "execution_count": 10,
   "metadata": {},
   "outputs": [
    {
     "name": "stdout",
     "output_type": "stream",
     "text": [
      "['chandler', 'joey', 'rachel', 'ross']\n"
     ]
    }
   ],
   "source": [
    "#permanent sorting of list\n",
    "\n",
    "cast.sort()            #sorts the list for permanent.The original list is sorted\n",
    "print(cast)"
   ]
  },
  {
   "cell_type": "code",
   "execution_count": 11,
   "metadata": {},
   "outputs": [
    {
     "name": "stdout",
     "output_type": "stream",
     "text": [
      "['chandler', 'joey', 'rachel', 'ross']\n"
     ]
    }
   ],
   "source": [
    "print (cast)"
   ]
  },
  {
   "cell_type": "code",
   "execution_count": null,
   "metadata": {},
   "outputs": [],
   "source": []
  }
 ],
 "metadata": {
  "kernelspec": {
   "display_name": "Python 3",
   "language": "python",
   "name": "python3"
  },
  "language_info": {
   "codemirror_mode": {
    "name": "ipython",
    "version": 3
   },
   "file_extension": ".py",
   "mimetype": "text/x-python",
   "name": "python",
   "nbconvert_exporter": "python",
   "pygments_lexer": "ipython3",
   "version": "3.7.6"
  }
 },
 "nbformat": 4,
 "nbformat_minor": 4
}
